{
 "cells": [
  {
   "cell_type": "markdown",
   "id": "09ac67f5-df0f-453e-836d-4cc0184f71c6",
   "metadata": {},
   "source": [
    "1. Who developed python Programming Language ?\n",
    "Ans :  Guido van Rossum"
   ]
  },
  {
   "cell_type": "markdown",
   "id": "365823ca-f191-4bdb-b79b-9cd158587db4",
   "metadata": {},
   "source": [
    "2. Which type of programming does python support ?\n",
    "Ans : 1. Procedural programming \n",
    "      2. Object-oriented programming\n",
    "      3. Functional programming\n",
    "      4. Imperative programming\n",
    "      5. Event-driven programming"
   ]
  },
  {
   "cell_type": "markdown",
   "id": "d6c08a6e-d2be-44ea-bc09-d4693de5496c",
   "metadata": {
    "tags": []
   },
   "source": [
    "3. Is python case sensitive when dealing with identifiers ?\n",
    "Ans : Yes, Python is a case-sensitive programming language when dealing with identifiers."
   ]
  },
  {
   "cell_type": "markdown",
   "id": "2282b12c-b500-4684-849c-3fe9f3fc3567",
   "metadata": {},
   "source": [
    "4. What is the correct extension of the python file ?\n",
    "Ans : The correct extension for a Python file is \".py\""
   ]
  },
  {
   "cell_type": "markdown",
   "id": "427fdc45-5d18-440f-8d63-a50810d7aee3",
   "metadata": {},
   "source": [
    "5. Is python code compiled or interpreted ?\n",
    "Ans : Python is an interpreted programming language."
   ]
  },
  {
   "cell_type": "markdown",
   "id": "62ed314a-fb5f-4f5b-8bd6-163b2d1dcffa",
   "metadata": {},
   "source": [
    "6. Name a few blocks of code used to define in python language ?\n",
    "Ans : 1. Function \n",
    "      2. Classes\n",
    "      3. Conditionals\n",
    "      4. Loops\n",
    "      5. Modules"
   ]
  },
  {
   "cell_type": "markdown",
   "id": "97e329ae-58c3-48f3-8e46-0aa9e0de4630",
   "metadata": {},
   "source": [
    "7. State a Character used to give single-line comments in python?\n",
    "Ans : the character used to give a single-line comment is the hash         symbol (#)"
   ]
  },
  {
   "cell_type": "markdown",
   "id": "d3b3aa26-1cba-4636-bf04-068a954f7404",
   "metadata": {},
   "source": [
    "8. Mention functions which can help us to find the vesion of python    that we are currently working on ?\n",
    "Ans : 1. sys.version method\n",
    "      2. python_version() function\n",
    "      3. Python -V command"
   ]
  },
  {
   "cell_type": "markdown",
   "id": "db5a5bad-b57d-4005-8547-3c4f11e38f1a",
   "metadata": {},
   "source": [
    "9. Python supports the creation of anonymous function at runtime,      using a construct called _______\n",
    "Ans : Lambda function"
   ]
  },
  {
   "cell_type": "markdown",
   "id": "86df1f02-312a-4827-9933-44a66803b552",
   "metadata": {},
   "source": [
    "10. What does pip stand for python ?\n",
    "Ans : pip stands for \"Pip Installs Packages\". It is a package             management system used to install and manage software               packages written in Python."
   ]
  },
  {
   "cell_type": "markdown",
   "id": "94e97501-5497-4437-b6f8-85188ce3a330",
   "metadata": {},
   "source": [
    "11. Mention a few built-in function in python ?\n",
    "Ans: 1. print()\n",
    "     2. len()\n",
    "     3. range()\n",
    "     4. input()\n",
    "     5. type()\n",
    "     6. str()\n",
    "     7. int()\n",
    "     8. float()\n",
    "     "
   ]
  },
  {
   "cell_type": "markdown",
   "id": "29504242-7da1-4f96-839b-75ce555584e5",
   "metadata": {},
   "source": [
    "12. What is the maximum possible length of an identifier in python ?\n",
    "Ans : 79 characters"
   ]
  },
  {
   "cell_type": "markdown",
   "id": "611d711a-7b51-4e75-b165-7b8b83885c23",
   "metadata": {},
   "source": [
    "13. What are the benifits of using python ?\n",
    "Ans : 1. Easy to learn and use\n",
    "      2. Versatile\n",
    "      3. Portable\n",
    "      4. Large standard library\n",
    "      5. Presence of third-party modules \n",
    "      6. User-friendly data structures \n",
    "      7. Object-Oriented and Procedural  Programming language\n",
    "      8. Portable across Operating systems \n",
    "      Etc"
   ]
  },
  {
   "cell_type": "markdown",
   "id": "1d7cc599-e5bc-473d-9128-f4ba2de7fec9",
   "metadata": {},
   "source": [
    "14. How is memory managed in python ?\n",
    "Ans : In Python, memory is managed automatically by a mechanism           known as \"garbage collection\". This means that the Python           interpreter automatically allocates memory to store objects as       needed, and then frees up that memory when the objects are no       longer needed.\n",
    "      Python uses a reference counting mechanism to keep track of         when an object is no longer being used. "
   ]
  },
  {
   "cell_type": "markdown",
   "id": "82c4bf35-4dfd-4b47-8a50-d999c82c12c8",
   "metadata": {},
   "source": [
    "15. How to install python on Windows and set path variables ?\n",
    "Ans: 1. Download Python: Go to the official Python website                (https://www.python.org/downloads/windows/) and download the        latest version of Python for Windows.\n",
    "     2. Run the installer: Once the download is complete, run the        installer and follow the on-screen instructions to install          Python on your system. Choose the \"Add Python to PATH\" option        during installation, which will automatically set the necessary      path variables.\n",
    "     3. Verify installation: Open the command prompt and type            \"python\" to verify that Python has been installed correctly.         You should see the Python version number and a prompt (\">>>\")       indicating that the Python interpreter is running.\n",
    "     4. Set path variables manually : If you chose not to add Python       to the PATH during installation, you can set the path               variables manually. Go to \"Control Panel > System and Security       > System > Advanced system settings > Environment Variables\".       Under \"System variables\", find the \"Path\" variable and click         \"Edit\".  Add the path to the Python installation directory           (e.g. C:\\Python39) to the list of paths."
   ]
  },
  {
   "cell_type": "markdown",
   "id": "560d3cf9-bb14-4fe0-b45b-ac19771929ba",
   "metadata": {},
   "source": [
    "16. Is indentation required in python ?\n",
    "Ans : Yes, indentation is required in Python. Unlike other                 programming languages that use brackets or parentheses to           define blocks of code, Python uses indentation to delimit           blocks of code."
   ]
  }
 ],
 "metadata": {
  "kernelspec": {
   "display_name": "Python 3 (ipykernel)",
   "language": "python",
   "name": "python3"
  },
  "language_info": {
   "codemirror_mode": {
    "name": "ipython",
    "version": 3
   },
   "file_extension": ".py",
   "mimetype": "text/x-python",
   "name": "python",
   "nbconvert_exporter": "python",
   "pygments_lexer": "ipython3",
   "version": "3.10.6"
  }
 },
 "nbformat": 4,
 "nbformat_minor": 5
}
