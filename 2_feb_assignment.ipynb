{
 "cells": [
  {
   "cell_type": "markdown",
   "id": "12f9329e-9a30-4136-ab3d-24bb244cc431",
   "metadata": {},
   "source": [
    "**1. Explain with an example each when to use for loop and a While loop**"
   ]
  },
  {
   "cell_type": "markdown",
   "id": "a12997e5-b824-4e86-8e4b-ccabbdc9ab01",
   "metadata": {},
   "source": [
    "for Loop: A For loop is used when you know the number of times you want to repeat a block of code. For example, if you want to iterate over a list of elements or a range of numbers a specific number of times, you can use a for loop."
   ]
  },
  {
   "cell_type": "code",
   "execution_count": 1,
   "id": "0d16b4d0-bcaf-432a-bbb4-6d9e64df7b3b",
   "metadata": {},
   "outputs": [
    {
     "name": "stdout",
     "output_type": "stream",
     "text": [
      "1\n",
      "2\n",
      "3\n",
      "4\n",
      "5\n"
     ]
    }
   ],
   "source": [
    "# Example: Suppose you have a list of numbers and you want to print each number in the list:\n",
    "\n",
    "numbers = [1, 2, 3, 4, 5]\n",
    "for num in numbers:\n",
    "    print(num)\n"
   ]
  },
  {
   "cell_type": "markdown",
   "id": "804bebdb-b9d0-4470-99fb-5e69e4055974",
   "metadata": {},
   "source": [
    "While Loop: A while loop is used when you want to repeat a block of code as long as a certain condition is true.\n",
    "\n",
    "Example: Suppose you want to print all the even numbers less than 10. You can use a while loop to keep incrementing a counter variable until it reaches 10, and then print the even numbers:"
   ]
  },
  {
   "cell_type": "code",
   "execution_count": 1,
   "id": "a5064bc5-b385-4a19-a74d-2209453c8a81",
   "metadata": {},
   "outputs": [
    {
     "name": "stdout",
     "output_type": "stream",
     "text": [
      "0\n",
      "2\n",
      "4\n",
      "6\n",
      "8\n"
     ]
    }
   ],
   "source": [
    "num = 0\n",
    "while num < 10:\n",
    "    if num % 2 == 0:\n",
    "        print(num)\n",
    "    num += 1\n"
   ]
  },
  {
   "cell_type": "code",
   "execution_count": null,
   "id": "a01f84e0-32a0-40d7-8917-24accfbcec33",
   "metadata": {},
   "outputs": [],
   "source": []
  },
  {
   "cell_type": "markdown",
   "id": "7e6fd957-e865-4fc7-9fe5-13955e0f9d93",
   "metadata": {},
   "source": [
    "**2. Write a python program to print the sum and product of the first 10 natural number using for loop and while loop.**"
   ]
  },
  {
   "cell_type": "code",
   "execution_count": 8,
   "id": "4543ea23-76ca-4d37-9f9c-af9a05eb51ad",
   "metadata": {},
   "outputs": [
    {
     "name": "stdout",
     "output_type": "stream",
     "text": [
      "sum of first 10 natural number is:  55\n",
      "product of first 10 natural number is:  3628800\n"
     ]
    }
   ],
   "source": [
    "# For loop:\n",
    "\n",
    "i = 1\n",
    "sum = 0\n",
    "product = 1\n",
    "\n",
    "for i in range(1,11):\n",
    "    sum = sum + i\n",
    "    product = product*i\n",
    "    \n",
    "print('sum of first 10 natural number is: ' , sum)\n",
    "print('product of first 10 natural number is: ' , product)\n",
    "    "
   ]
  },
  {
   "cell_type": "code",
   "execution_count": null,
   "id": "cb0fa16b-51e1-4493-a323-2cf46158e1f9",
   "metadata": {},
   "outputs": [],
   "source": []
  },
  {
   "cell_type": "markdown",
   "id": "d91d29b1-96bd-4c0b-9773-f853b5c84271",
   "metadata": {},
   "source": [
    "**3. create a python program to compute the electricity bill for a household**\n",
    "\n",
    "The per-unit charges in rupees are as follows: for the first 100 units, the user will be charged Rs. 4.5 per unit, for the next 100 units, the user will be charged Rs. 6 per unit, and for next 100 units, the user will be charged Rs. 10 per unit, After 300 units and above the user will be charged Rs. 20 per unit."
   ]
  },
  {
   "cell_type": "code",
   "execution_count": 36,
   "id": "efcc542e-bfbd-4381-9dfc-61aa0cbde684",
   "metadata": {},
   "outputs": [
    {
     "name": "stdin",
     "output_type": "stream",
     "text": [
      "Enter the number of units of electricity consumed in a month :  310\n"
     ]
    },
    {
     "name": "stdout",
     "output_type": "stream",
     "text": [
      "your electricity bill is :  2250.0\n"
     ]
    }
   ],
   "source": [
    "units = int(input(\"Enter the number of units of electricity consumed in a month : \"))\n",
    "charge = 0\n",
    "\n",
    "if units <= 100:\n",
    "    charge = units * 4.5\n",
    "elif units <= 200:\n",
    "    charge = 100 * 4.5 + (units - 100) * 6\n",
    "elif units <= 300:\n",
    "    charge = 100 * 4.5 + 100 * 6 + (units - 200) * 10\n",
    "else:\n",
    "    charge = 100 * 4.5 + 100 * 6 + 100 * 10 + (units - 300) * 20\n",
    "    \n",
    "print('your electricity bill is : ', charge)\n",
    "         "
   ]
  },
  {
   "cell_type": "code",
   "execution_count": null,
   "id": "8f0e330e-f9c9-4cef-88c8-5f6f1f88ba86",
   "metadata": {},
   "outputs": [],
   "source": []
  },
  {
   "cell_type": "markdown",
   "id": "6ee2a3db-bfbf-4dba-80c0-38785ed66fdd",
   "metadata": {},
   "source": [
    "**4. create a list of numbers from 1 to 100. use for loop and while loop to calculate the cube of each number and if the cube of that number is divisible by 4 or 5 then append that number in a list and print that list.**"
   ]
  },
  {
   "cell_type": "code",
   "execution_count": 18,
   "id": "80309c22-fca5-474a-8d18-60601f4c3970",
   "metadata": {},
   "outputs": [
    {
     "name": "stdout",
     "output_type": "stream",
     "text": [
      "[2, 4, 5, 6, 8, 10, 12, 14, 15, 16, 18, 20, 22, 24, 25, 26, 28, 30, 32, 34, 35, 36, 38, 40, 42, 44, 45, 46, 48, 50, 52, 54, 55, 56, 58, 60, 62, 64, 65, 66, 68, 70, 72, 74, 75, 76, 78, 80, 82, 84, 85, 86, 88, 90, 92, 94, 95, 96, 98, 100]\n"
     ]
    }
   ],
   "source": [
    "num_list = list(range(1,101))\n",
    "number = 0\n",
    "final_list = []\n",
    "    \n",
    "# using for loop \n",
    "\n",
    "for i in num_list:\n",
    "    number = i**3\n",
    "    if(number%4==0 or number%5==0):\n",
    "        final_list.append(i)\n",
    "        \n",
    "print(final_list)\n"
   ]
  },
  {
   "cell_type": "code",
   "execution_count": 19,
   "id": "051807ee-b2d2-4e60-b993-eedeb8ade2d5",
   "metadata": {},
   "outputs": [
    {
     "name": "stdout",
     "output_type": "stream",
     "text": [
      "[2, 4, 5, 6, 8, 10, 12, 14, 15, 16, 18, 20, 22, 24, 25, 26, 28, 30, 32, 34, 35, 36, 38, 40, 42, 44, 45, 46, 48, 50, 52, 54, 55, 56, 58, 60, 62, 64, 65, 66, 68, 70, 72, 74, 75, 76, 78, 80, 82, 84, 85, 86, 88, 90, 92, 94, 95, 96, 98, 100]\n"
     ]
    }
   ],
   "source": [
    "# using while loop\n",
    "\n",
    "num_list = list(range(1,101))\n",
    "number = 0\n",
    "final_list = []\n",
    "j=0\n",
    "\n",
    "    \n",
    "while j < len(num_list):\n",
    "    number = num_list[j] ** 3\n",
    "    if(number%4==0 or number%5==0):\n",
    "        final_list.append(num_list[j])\n",
    "    j=j+1\n",
    "     \n",
    "    \n",
    "print(final_list)"
   ]
  },
  {
   "cell_type": "code",
   "execution_count": null,
   "id": "88eb9225-47b6-4b35-a23f-8973ce715c0a",
   "metadata": {},
   "outputs": [],
   "source": []
  },
  {
   "cell_type": "markdown",
   "id": "e1a8845a-011e-47df-ad17-47ecf8a886ff",
   "metadata": {},
   "source": [
    "**5. Write a program to filter count vowels in the below given string.** \n",
    "\n",
    "string = \"i want to become a data scientist\""
   ]
  },
  {
   "cell_type": "code",
   "execution_count": 30,
   "id": "50ad8948-cc09-4fd5-9093-f4503e7381b8",
   "metadata": {},
   "outputs": [
    {
     "name": "stdout",
     "output_type": "stream",
     "text": [
      "Number of vowels in the string: 12\n"
     ]
    }
   ],
   "source": [
    "string = \"i want to become a data scientist\"\n",
    "vowels = 'aeiou'\n",
    "\n",
    "filter_string = list(filter(lambda x: x in vowels, string)) \n",
    "\n",
    "count = len(filter_string)\n",
    "\n",
    "print(\"Number of vowels in the string:\", count)"
   ]
  },
  {
   "cell_type": "code",
   "execution_count": null,
   "id": "a7286fe2-cbe1-415b-b79d-52071fc888c1",
   "metadata": {},
   "outputs": [],
   "source": []
  }
 ],
 "metadata": {
  "kernelspec": {
   "display_name": "Python 3 (ipykernel)",
   "language": "python",
   "name": "python3"
  },
  "language_info": {
   "codemirror_mode": {
    "name": "ipython",
    "version": 3
   },
   "file_extension": ".py",
   "mimetype": "text/x-python",
   "name": "python",
   "nbconvert_exporter": "python",
   "pygments_lexer": "ipython3",
   "version": "3.10.6"
  }
 },
 "nbformat": 4,
 "nbformat_minor": 5
}
