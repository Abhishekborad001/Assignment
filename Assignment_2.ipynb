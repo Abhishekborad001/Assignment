{
 "cells": [
  {
   "cell_type": "markdown",
   "id": "2dbf75dc-17d0-4b82-8cd0-dcc34768511b",
   "metadata": {},
   "source": [
    "**1. write a program to accept percentage from the user and display the grade according to the following criteria :**"
   ]
  },
  {
   "cell_type": "code",
   "execution_count": 15,
   "id": "e6e555c9-7848-423c-9eee-fdc5e134a3f7",
   "metadata": {},
   "outputs": [
    {
     "name": "stdout",
     "output_type": "stream",
     "text": [
      "Enter your percentage 88\n"
     ]
    },
    {
     "name": "stdout",
     "output_type": "stream",
     "text": [
      "Your grade is 'B'\n"
     ]
    }
   ],
   "source": [
    "percentage = int(input(\"Enter your percentage\"))\n",
    "\n",
    "if percentage > 90 and percentage <= 100:\n",
    "    print(\"Your grade is 'A'\")\n",
    "elif percentage >80 and percentage <= 90:\n",
    "    print(\"Your grade is 'B'\")\n",
    "elif percentage >= 60 and percentage <= 80:\n",
    "    print(\"Your grade is 'C'\")\n",
    "elif percentage < 60 and percentage >= 0:\n",
    "    print(\"Your grade is 'D'\")\n",
    "else :\n",
    "    print(\"Enter right information\")"
   ]
  },
  {
   "cell_type": "code",
   "execution_count": null,
   "id": "2a8786b5-d3fb-4e2e-ad3f-170ace403971",
   "metadata": {},
   "outputs": [],
   "source": []
  },
  {
   "cell_type": "markdown",
   "id": "de1432b6-f64e-42da-ac2e-9810e3715e36",
   "metadata": {},
   "source": [
    "**2. Write a program to accept the cost price of a bike and display the road tax to be paid according to the following criteria :**"
   ]
  },
  {
   "cell_type": "code",
   "execution_count": 36,
   "id": "26e3c5e8-59ae-4213-95ca-530e621d97e6",
   "metadata": {},
   "outputs": [
    {
     "name": "stdout",
     "output_type": "stream",
     "text": [
      "Enter cost price of your bike  -250\n"
     ]
    },
    {
     "name": "stdout",
     "output_type": "stream",
     "text": [
      "Enter right information\n"
     ]
    }
   ],
   "source": [
    "price = int(input('Enter cost price of your bike '))\n",
    "Tax = 0\n",
    "if price > 100000:\n",
    "    Tax = (price * 0.15)\n",
    "    print(\"You have to pay road tax \" , Tax , \"RS\")\n",
    "    \n",
    "elif price > 50000 and price <= 100000:\n",
    "    Tax = (price * 0.10)\n",
    "    print(\"You have to pay road tax \", Tax, \"RS\")\n",
    "\n",
    "elif price > 0 and price <= 50000:\n",
    "    Tax = (price * 0.05)\n",
    "    print(\"You have to pay road tax \",Tax , \"RS\")\n",
    "    \n",
    "else :\n",
    "    print(\"Enter right information\")\n",
    "    "
   ]
  },
  {
   "cell_type": "code",
   "execution_count": null,
   "id": "f9a91054-cb99-4d06-9a22-30e6fe77a74c",
   "metadata": {},
   "outputs": [],
   "source": []
  },
  {
   "cell_type": "markdown",
   "id": "72547f19-8567-4619-9ef9-235d93e7f691",
   "metadata": {},
   "source": [
    "**3. Accept any city from the user and display monuments of that city.**"
   ]
  },
  {
   "cell_type": "code",
   "execution_count": 43,
   "id": "a59c60c7-6c23-4de4-bb68-6638028c3902",
   "metadata": {},
   "outputs": [
    {
     "name": "stdout",
     "output_type": "stream",
     "text": [
      "Enter your city Agra\n"
     ]
    },
    {
     "name": "stdout",
     "output_type": "stream",
     "text": [
      "Mounuments of your city is Taj Mahal\n"
     ]
    }
   ],
   "source": [
    "city = input('Enter your city')\n",
    "if city == 'Delhi':\n",
    "    print('Mounuments of your city is Red Fort')\n",
    "elif city == 'Agra':\n",
    "    print('Mounuments of your city is Taj Mahal')\n",
    "elif city == 'Jaipur':\n",
    "    print('Mounuments of your city is Jal Mahal')\n",
    "else:\n",
    "    print('write any one of this 3 : Delhi , Agra , Jaipur' )"
   ]
  },
  {
   "cell_type": "code",
   "execution_count": 48,
   "id": "37a770cf-ec6a-4b98-bdbb-40653cf6c394",
   "metadata": {},
   "outputs": [
    {
     "name": "stdout",
     "output_type": "stream",
     "text": [
      "Enter your city Agra\n"
     ]
    },
    {
     "name": "stdout",
     "output_type": "stream",
     "text": [
      "Mounuments of your city is Taj Mahal\n"
     ]
    }
   ],
   "source": [
    "city_mnts = {'Delhi':'Red Fort', 'Agra':'Taj Mahal', 'Jaipur':'Jal Mahal'}\n",
    "city = input('Enter your city')\n",
    "\n",
    "print('Mounuments of your city is' , city_mnts[city])"
   ]
  },
  {
   "cell_type": "code",
   "execution_count": null,
   "id": "73d36a52-1ff9-443f-9053-6df8ebd04ba3",
   "metadata": {},
   "outputs": [],
   "source": []
  },
  {
   "cell_type": "markdown",
   "id": "35693772-65b0-4705-b4a7-d1c878d4d6bd",
   "metadata": {},
   "source": [
    "**4. Check how many times a given number can be divided by 3 before it is less than or equal to 10.**"
   ]
  },
  {
   "cell_type": "code",
   "execution_count": 21,
   "id": "85a15f60-18e2-457c-9feb-9f64a0ead754",
   "metadata": {},
   "outputs": [
    {
     "name": "stdout",
     "output_type": "stream",
     "text": [
      "Enter your number:  89\n"
     ]
    },
    {
     "name": "stdout",
     "output_type": "stream",
     "text": [
      "your number cam be divided by 3 \"2\" times\n"
     ]
    }
   ],
   "source": [
    "number = int(input('Enter your number: '))\n",
    "count = 0\n",
    "\n",
    "while  number>10:\n",
    "    count = count + 1\n",
    "    number = number/3\n",
    "\n",
    "print('your number cam be divided by 3 \"%d\" times' %count)"
   ]
  },
  {
   "cell_type": "code",
   "execution_count": null,
   "id": "b38aa569-527d-4d0b-b3ad-2473916c6c9a",
   "metadata": {},
   "outputs": [],
   "source": []
  },
  {
   "cell_type": "markdown",
   "id": "a5b27caf-3f60-4a7a-8c44-4d63d4d7dc9a",
   "metadata": {},
   "source": [
    "**5. Why and When to use while loop in python give a detailed description with example.**\n",
    "\n",
    "While Loop is used to execute a block of statements repeatedly until a given condition is satisfied. And when the condition becomes false, the line immediately after the loop in the program is executed.\n",
    "\n",
    "While loop is used when number of times the loop is executed isn’t specified in advance. \n"
   ]
  },
  {
   "cell_type": "code",
   "execution_count": 31,
   "id": "c4c12dfe-ee7d-4258-98e6-d7b69435835e",
   "metadata": {},
   "outputs": [
    {
     "name": "stdout",
     "output_type": "stream",
     "text": [
      "How many number of times you want to print your name :  10\n",
      "Enter your name :  Abhishek Borad\n"
     ]
    },
    {
     "name": "stdout",
     "output_type": "stream",
     "text": [
      "your name is :  Abhishek Borad\n",
      "your name is :  Abhishek Borad\n",
      "your name is :  Abhishek Borad\n",
      "your name is :  Abhishek Borad\n",
      "your name is :  Abhishek Borad\n",
      "your name is :  Abhishek Borad\n",
      "your name is :  Abhishek Borad\n",
      "your name is :  Abhishek Borad\n",
      "your name is :  Abhishek Borad\n"
     ]
    }
   ],
   "source": [
    "\n",
    "#EX: Write a program to print your name according to your requirment.\n",
    "\n",
    "number = int(input(\"How many number of times you want to print your name : \"))\n",
    "name = input('Enter your name : ')\n",
    "\n",
    "while number > 1:\n",
    "    print('your name is : ',name)\n",
    "    number = number-1"
   ]
  },
  {
   "cell_type": "code",
   "execution_count": null,
   "id": "f86817f1-4354-40ae-aaaf-d5c7792822c0",
   "metadata": {},
   "outputs": [],
   "source": []
  },
  {
   "cell_type": "markdown",
   "id": "33f639c2-04fd-4975-ae95-3e889a9afa21",
   "metadata": {},
   "source": [
    "**6. use nested while loop to print 3 different pattern.**"
   ]
  },
  {
   "cell_type": "code",
   "execution_count": 11,
   "id": "3dd20134-95c9-4af3-aafa-611566462293",
   "metadata": {},
   "outputs": [
    {
     "name": "stdout",
     "output_type": "stream",
     "text": [
      "*\n",
      "**\n",
      "***\n",
      "****\n"
     ]
    }
   ],
   "source": [
    "# pattern 1:\n",
    "\n",
    "i = 1\n",
    "while i <= 4:\n",
    "    j = 1\n",
    "    while j <= i:\n",
    "        print(\"*\", end=\"\")\n",
    "        j = j+1\n",
    "    print(\"\")\n",
    "    i = i+1\n"
   ]
  },
  {
   "cell_type": "code",
   "execution_count": 13,
   "id": "fa15f41b-acbf-479c-8e7d-80a5710ae65e",
   "metadata": {},
   "outputs": [
    {
     "name": "stdout",
     "output_type": "stream",
     "text": [
      "****\n",
      "***\n",
      "**\n",
      "*\n"
     ]
    }
   ],
   "source": [
    "#pattern 2:\n",
    "\n",
    "i = 4\n",
    "while i >= 1:\n",
    "    j = 1\n",
    "    while j <= i:\n",
    "        print(\"*\", end=\"\")\n",
    "        j = j+1\n",
    "    print(\"\")\n",
    "    i = i-1\n",
    "\n",
    "\n",
    "\n"
   ]
  },
  {
   "cell_type": "code",
   "execution_count": 14,
   "id": "0d158ee2-1294-4f77-bc3d-8e42f7809c85",
   "metadata": {},
   "outputs": [
    {
     "name": "stdout",
     "output_type": "stream",
     "text": [
      "1\n",
      "12\n",
      "123\n",
      "1234\n",
      "12345\n",
      "123456\n"
     ]
    }
   ],
   "source": [
    "# pattern 3:\n",
    "\n",
    "i = 1\n",
    "while i <= 6:\n",
    "    j = 1\n",
    "    while j <= i:\n",
    "        print(j, end=\"\")\n",
    "        j += 1\n",
    "    print(\"\")\n",
    "    i += 1\n"
   ]
  },
  {
   "cell_type": "code",
   "execution_count": null,
   "id": "ae6801d9-3855-4cc2-bf3f-190e4b9cb708",
   "metadata": {},
   "outputs": [],
   "source": []
  },
  {
   "cell_type": "markdown",
   "id": "7def76a4-d819-48f2-b7e6-424fe6be398c",
   "metadata": {},
   "source": [
    "**7. Reverse a while loop to display numbers from 10 to 1.**"
   ]
  },
  {
   "cell_type": "code",
   "execution_count": 17,
   "id": "a65ca1c0-c2f8-4d8f-bfdd-a62f1d725e68",
   "metadata": {},
   "outputs": [
    {
     "name": "stdout",
     "output_type": "stream",
     "text": [
      "10\n",
      "9\n",
      "8\n",
      "7\n",
      "6\n",
      "5\n",
      "4\n",
      "3\n",
      "2\n",
      "1\n"
     ]
    }
   ],
   "source": [
    "i=10\n",
    "\n",
    "while i>0:\n",
    "    print(i)\n",
    "    i=i-1"
   ]
  },
  {
   "cell_type": "code",
   "execution_count": null,
   "id": "f6170957-32e2-4a19-8cd0-e6621543140e",
   "metadata": {},
   "outputs": [],
   "source": []
  },
  {
   "cell_type": "markdown",
   "id": "683dec35-b49e-4a4c-a233-d43e70d6ddb1",
   "metadata": {},
   "source": [
    "**8. same as question no. 7**"
   ]
  },
  {
   "cell_type": "code",
   "execution_count": null,
   "id": "80590a4e-279f-4541-b32f-1bc842f86507",
   "metadata": {},
   "outputs": [],
   "source": []
  }
 ],
 "metadata": {
  "kernelspec": {
   "display_name": "Python 3 (ipykernel)",
   "language": "python",
   "name": "python3"
  },
  "language_info": {
   "codemirror_mode": {
    "name": "ipython",
    "version": 3
   },
   "file_extension": ".py",
   "mimetype": "text/x-python",
   "name": "python",
   "nbconvert_exporter": "python",
   "pygments_lexer": "ipython3",
   "version": "3.10.6"
  }
 },
 "nbformat": 4,
 "nbformat_minor": 5
}
